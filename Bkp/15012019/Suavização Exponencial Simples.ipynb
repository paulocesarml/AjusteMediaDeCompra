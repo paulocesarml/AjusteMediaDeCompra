{
 "cells": [
  {
   "cell_type": "code",
   "execution_count": null,
   "metadata": {},
   "outputs": [],
   "source": [
    "import pandas as pd\n",
    "import numpy as np\n",
    "import matplotlib.pyplot as plt\n",
    "from datetime import datetime\n",
    "from math import sqrt\n",
    "from math import floor\n",
    "from math import ceil\n",
    "from sklearn.metrics import mean_squared_error\n",
    "from statsmodels.tsa.api import SimpleExpSmoothing\n",
    "\n",
    "% matplotlib inline\n",
    "\n",
    "try:\n",
    "    dateparse = lambda dates: pd.datetime.strptime(dates, '%d.%m.%Y %H:%M:%S')\n",
    "    dataFrame = pd.read_csv(r\"C:\\Users\\Paulo Cesar\\Estudos\\Data Science\\Ajuste Media de Compra\\datasets\\VENDA-GAM-343.CSV\", sep=\";\", parse_dates=['dt_venda'], \n",
    "                        index_col='dt_venda', date_parser=dateparse)\n",
    "except:\n",
    "    dateparse = lambda dates: pd.datetime.strptime(dates, '%d/%m/%Y %H:%M:%S')\n",
    "    dataFrame = pd.read_csv(r\"C:\\Users\\Paulo Cesar\\Estudos\\Data Science\\Ajuste Media de Compra\\datasets\\VENDA-GAM-343.CSV\", sep=\";\", parse_dates=['det_venda'], \n",
    "                        index_col='dt_venda', date_parser=dateparse)\n",
    "    \n"
   ]
  },
  {
   "cell_type": "code",
   "execution_count": null,
   "metadata": {},
   "outputs": [],
   "source": [
    "dataFrame.head()"
   ]
  },
  {
   "cell_type": "code",
   "execution_count": null,
   "metadata": {
    "collapsed": true
   },
   "outputs": [],
   "source": [
    "def buscarDataAtual():\n",
    "    data_atual = datetime.today()\n",
    "    data_em_texto = '{}-{}-{}'.format(data_atual.year, data_atual.month, '01')\n",
    "    return data_em_texto\n",
    "\n",
    "def adicionarIndicesFaltantes(df):\n",
    "    idx = pd.date_range(min(df.index), dataAtual, freq='MS')\n",
    "    df.index = pd.DatetimeIndex(df.index)\n",
    "    df = df.reindex(idx, fill_value=0)\n",
    "    return df\n",
    "\n",
    "def suavizacaoExponencialSimples(dataFrameMercadoria,i):\n",
    "    \n",
    "    totalLinhas = dataFrameMercadoria.shape[0]\n",
    "    quantidadeLinhasTreino = floor(totalLinhas-((totalLinhas*20)/100))\n",
    "    \n",
    "    ts = dataFrameMercadoria['qt_vendida']\n",
    "    \n",
    "    train = ts[0:quantidadeLinhasTreino]\n",
    "    teste = ts[quantidadeLinhasTreino:]\n",
    "    \n",
    "    y_hat_avg = pd.DataFrame(teste.copy())\n",
    "    model_fit = SimpleExpSmoothing(np.asarray(train)).fit(smoothing_level=0.6,optimized=False)\n",
    "    y_hat_avg['SES'] = model_fit.forecast(len(teste))\n",
    "    rmse_ses = sqrt(mean_squared_error(teste, y_hat_avg['SES'])); \n",
    "    print(dataFrameMercadoria)\n",
    "    \n",
    "    #dataFrameMercadoria[len(dataFrameMercadoria)]['SES'] = y_hat_avg[0]['SES']\n",
    "    #arrayDeDataFrame[len(arrayDeDataFrame)-1]['MM'+str(j)] = arrayDeDataFrame[len(arrayDeDataFrame)-1]['qt_vendida'].rolling(j).mean()\n",
    "    \n",
    "    #plt.figure(figsize=(16,4))\n",
    "    #plt.plot(train, label='Train', linewidth=3, markersize=6, marker='o', )\n",
    "    #plt.plot(teste, label='Test', linewidth=3, markersize=6, marker='o' )\n",
    "    #plt.plot(y_hat_avg['SES'],linewidth=3, label='SES')\n",
    "    #plt.legend(loc='best')\n",
    "    \n",
    "    return dataFrameMercadoria\n",
    "\n",
    "dataAtual = buscarDataAtual()\n",
    "dataFrame = dataFrame[dataFrame.index != dataAtual]"
   ]
  },
  {
   "cell_type": "code",
   "execution_count": null,
   "metadata": {
    "scrolled": false
   },
   "outputs": [],
   "source": [
    "#arrayMercadoria = dataFrame['cd_mercadoria'].unique()\n",
    "#arrayEmpresa = [1, 4, 5]\n",
    "arrayMercadoria = [117661]\n",
    "arrayEmpresa = [1]\n",
    "\n",
    "arrayDeDataFrame = []\n",
    "\n",
    "for emp in arrayEmpresa:\n",
    "    i = 0\n",
    "    for i, mer in enumerate(arrayMercadoria):\n",
    "        df = dataFrame[(dataFrame['cd_mercadoria'] == mer) & \n",
    "                      (dataFrame['cd_empresa'] == emp)].sort_values(by=['dt_venda'],ascending=True)\n",
    "        \n",
    "        if (len(df) > 0):\n",
    "            df = adicionarIndicesFaltantes(df) \n",
    "            arrayDeDataFrame.append(suavizacaoExponencialSimples(df,i))                \n",
    "            \n",
    "        arrayDeDataFrame[len(arrayDeDataFrame)-1].fillna(0, inplace=True)\n",
    "         "
   ]
  }
 ],
 "metadata": {
  "kernelspec": {
   "display_name": "Python 3",
   "language": "python",
   "name": "python3"
  },
  "language_info": {
   "codemirror_mode": {
    "name": "ipython",
    "version": 3
   },
   "file_extension": ".py",
   "mimetype": "text/x-python",
   "name": "python",
   "nbconvert_exporter": "python",
   "pygments_lexer": "ipython3",
   "version": "3.6.3"
  }
 },
 "nbformat": 4,
 "nbformat_minor": 2
}
