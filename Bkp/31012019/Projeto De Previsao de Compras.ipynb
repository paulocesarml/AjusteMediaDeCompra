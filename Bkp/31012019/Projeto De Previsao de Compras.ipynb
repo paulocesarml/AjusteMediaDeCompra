{
 "cells": [
  {
   "cell_type": "markdown",
   "metadata": {},
   "source": [
    "<h1>Projeto De Previsao de Compras</h1>\n",
    "<h2>Versao.: 1.0</h2>\n",
    "<h2>Data.:   07/12/2018</h2>\n",
    "<p>Criar um dataframe com os resultados e a media movel que foi adquirido</p>"
   ]
  },
  {
   "cell_type": "code",
   "execution_count": null,
   "metadata": {},
   "outputs": [],
   "source": [
    "import pandas as pd\n",
    "import numpy as np\n",
    "from datetime import datetime\n",
    "from datetime import timedelta\n",
    "from math import sqrt\n",
    "from sklearn.metrics import mean_squared_error \n",
    "\n",
    "dateparse = lambda dates: pd.datetime.strptime(dates, '%d.%m.%Y %H:%M:%S')\n",
    "\n",
    "#windows\n",
    "#dataFrame = pd.read_csv(r\"C:\\Users\\Paulo Cesar\\Estudos\\Data Science\\Ajuste Media de Compra\\VENDA-GAM-343.CSV\", \n",
    "                        #sep=\";\", parse_dates = ['dt_venda'], index_col = 'dt_venda', date_parser = dateparse)\n",
    "\n",
    "#Linux\n",
    "dataFrame = pd.read_csv(r\"/home/pc/Estudos/Data Science/Ajuste Media de Compra/VENDA-GAM-3.CSV\", \n",
    "                        sep=\";\", parse_dates = ['dt_venda'], index_col = 'dt_venda', date_parser = dateparse)\n",
    "    \n",
    "#Windows\n",
    "#dataFrame = pd.read_csv(r\"C:\\Users\\Paulo Cesar\\Estudos\\Data Science\\Ajuste Media de Compra\\\\VENDA-GAM-343.CSV\",sep=\";\")\n",
    "\n",
    "#Linux\n",
    "#dataFrame = pd.read_csv(r\"/home/pc/Estudos/Data Science/Ajuste Media de Compra/VENDA-GAM-343.CSV\",sep=\";\")\n",
    "\n",
    "#dataFrame['dt_venda'] = pd.to_datetime(dataFrame['dt_venda'])\n",
    "\n",
    "#dataFrame.index = pd.to_datetime(dataFrame.index)\n"
   ]
  },
  {
   "cell_type": "raw",
   "metadata": {},
   "source": [
    "dataFrame"
   ]
  },
  {
   "cell_type": "code",
   "execution_count": null,
   "metadata": {
    "collapsed": true
   },
   "outputs": [],
   "source": [
    "#dataFrame.drop(index=dataFrame.loc[dataFrame['dt_venda'] == '2018-01-11'].index)\n",
    "#df = df.drop(df[df.score < 50].index)\n",
    "dataAtual = buscarDataAtual()\n",
    "dataFrame = dataFrame[dataFrame.index != dataAtual]"
   ]
  },
  {
   "cell_type": "raw",
   "metadata": {},
   "source": [
    "dataFrame[(dataFrame['cd_mercadoria'] == 117661) & (dataFrame['cd_empresa'] == 1)].sort_values(by=['dt_venda'],ascending=False)"
   ]
  },
  {
   "cell_type": "code",
   "execution_count": null,
   "metadata": {
    "collapsed": true
   },
   "outputs": [],
   "source": [
    "def buscarDataAtual():\n",
    "    data_atual = datetime.today()\n",
    "    data_em_texto = '{}-{}-{}'.format(data_atual.year, data_atual.month, '01')\n",
    "    return data_em_texto"
   ]
  },
  {
   "cell_type": "code",
   "execution_count": null,
   "metadata": {
    "collapsed": true
   },
   "outputs": [],
   "source": [
    "def calcularErro(dataAtual):\n",
    "    for i, df in enumerate(arrayDeDataFrame):\n",
    "        if (len(df) > 6):\n",
    "            aVendida = df.iloc[-6:, 3].values\n",
    "            j = 1\n",
    "            while j <= 12:\n",
    "                aMM = df.iloc[-8:-2, j+2].values\n",
    "                erroMM = sqrt(mean_squared_error(aVendida, aMM))\n",
    "                df.loc[dataAtual, 'MM'+str(j)] = erroMM;\n",
    "                j+=1"
   ]
  },
  {
   "cell_type": "code",
   "execution_count": null,
   "metadata": {
    "collapsed": true
   },
   "outputs": [],
   "source": [
    "arrayMercadoria = dataFrame['cd_mercadoria'].unique()\n",
    "arrayEmpresa = [1, 4, 5]\n",
    "#arrayMercadoria = [117661]\n",
    "#arrayEmpresa = [1]\n",
    "\n",
    "arrayDeDataFrame = []\n",
    "\n",
    "\n",
    "\n",
    "for emp in arrayEmpresa:\n",
    "    i = 0\n",
    "    for i, mer in enumerate(arrayMercadoria):\n",
    "        df = dataFrame[(dataFrame['cd_mercadoria'] == mer) & \n",
    "                      (dataFrame['cd_empresa'] == emp)].sort_values(by=['dt_venda'],ascending=True)\n",
    "        \n",
    "        if (len(df) > 0):\n",
    "            idx = pd.date_range(min(df.index), dataAtual, freq='MS')\n",
    "            df.index = pd.DatetimeIndex(df.index)\n",
    "            df = df.reindex(idx, fill_value=0)\n",
    "            \n",
    "            arrayDeDataFrame.append(df)                \n",
    "            \n",
    "            j = 1\n",
    "            while j <= 12:\n",
    "                arrayDeDataFrame[len(arrayDeDataFrame)-1]['MM'+str(j)] = arrayDeDataFrame[len(arrayDeDataFrame)-1]['qt_vendida'].rolling(j).mean()\n",
    "                j += 1\n",
    "            \n",
    "        arrayDeDataFrame[len(arrayDeDataFrame)-1].fillna(0, inplace=True)\n",
    "         \n",
    "calcularErro(dataAtual)"
   ]
  },
  {
   "cell_type": "code",
   "execution_count": null,
   "metadata": {},
   "outputs": [],
   "source": [
    "arrayDeDataFrame[100]"
   ]
  },
  {
   "cell_type": "code",
   "execution_count": null,
   "metadata": {
    "scrolled": true
   },
   "outputs": [],
   "source": [
    "min(dict(arrayDeDataFrame[100].iloc[-1, 4:]), key=dict(arrayDeDataFrame[100].iloc[-1, 4:]).get)"
   ]
  },
  {
   "cell_type": "code",
   "execution_count": null,
   "metadata": {},
   "outputs": [],
   "source": [
    "arrayDeDataFrame[100][min(dict(arrayDeDataFrame[100].iloc[-1, 4:]), \n",
    "                        key=dict(arrayDeDataFrame[100].iloc[-1, 4:]).get)][len(arrayDeDataFrame[100])-2]\n"
   ]
  }
 ],
 "metadata": {
  "kernelspec": {
   "display_name": "Python 3",
   "language": "python",
   "name": "python3"
  },
  "language_info": {
   "codemirror_mode": {
    "name": "ipython",
    "version": 3
   },
   "file_extension": ".py",
   "mimetype": "text/x-python",
   "name": "python",
   "nbconvert_exporter": "python",
   "pygments_lexer": "ipython3",
   "version": "3.6.3"
  }
 },
 "nbformat": 4,
 "nbformat_minor": 2
}
