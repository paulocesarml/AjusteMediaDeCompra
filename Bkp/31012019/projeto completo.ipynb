{
 "cells": [
  {
   "cell_type": "code",
   "execution_count": null,
   "metadata": {
    "collapsed": true
   },
   "outputs": [],
   "source": [
    "import pandas as pd\n",
    "import timeit\n",
    "import numpy as np\n",
    "from datetime import datetime\n",
    "from datetime import timedelta\n",
    "from math import sqrt\n",
    "from sklearn.metrics import mean_squared_error\n",
    "import warnings\n",
    "import statsmodels.api as sm\n",
    "from statsmodels.tsa.api import ExponentialSmoothing, SimpleExpSmoothing, Holt\n",
    "from statsmodels.tsa.arima_model import ARIMA\n",
    "\n",
    "dateparse = lambda dates: pd.datetime.strptime(dates, '%d.%m.%Y %H:%M:%S')\n",
    "dataFrame = pd.read_csv(r\"C:\\Users\\Paulo Cesar\\Estudos\\Data Science\\Ajuste Media de Compra\\datasets\\VENDA-GAM-3.CSV\", \n",
    "                        sep=\";\", parse_dates=['dt_venda'], index_col='dt_venda', date_parser=dateparse)"
   ]
  },
  {
   "cell_type": "code",
   "execution_count": null,
   "metadata": {
    "collapsed": true
   },
   "outputs": [],
   "source": [
    "def buscarDataAtual():\n",
    "    data_atual = datetime.today()\n",
    "    data_em_texto = '{}-{}-{}'.format(data_atual.year, data_atual.month, '01')\n",
    "    return data_em_texto\n",
    "    \n",
    "def adicionarIndicesFaltantes(df):\n",
    "    idx = pd.date_range(min(df.index), dataAtual, freq='MS')\n",
    "    df.index = pd.DatetimeIndex(df.index)\n",
    "    df = df.reindex(idx, fill_value=0)\n",
    "    return df\n",
    "\n",
    "def calcularErro(arrayDeDataFrame, dataAtual):\n",
    "    for i, df in enumerate(arrayDeDataFrame):\n",
    "        if (len(df) > 7):\n",
    "            aVendida = df.iloc[-6:, 3].values\n",
    "            j = 1\n",
    "            while j <= 12:\n",
    "                aMM = df.iloc[-8:-2, j+2].values\n",
    "                erroMM = sqrt(mean_squared_error(aVendida, aMM))\n",
    "                df.loc[dataAtual, 'MM'+str(j)] = erroMM\n",
    "                j+=12\n",
    "    \n",
    "def calcularMediaMovel(arrayDeDataFrame):\n",
    "    j = 1\n",
    "    while j <= 12:\n",
    "        arrayDeDataFrame[len(arrayDeDataFrame)-1]['MM'+str(j)] = arrayDeDataFrame[len(arrayDeDataFrame)-1]['qt_vendida'].rolling(j).mean()\n",
    "        j += 1\n",
    "    calcularErro(arrayDeDataFrame, dataAtual)\n",
    "    dfR = calcularPrevisaoMediaMovel()\n",
    "    return dfR\n",
    "\n",
    "\n",
    "def calcularPrevisaoMediaMovel():\n",
    "    resultados = []\n",
    "\n",
    "    for i in range(0, len(arrayDeDataFrame)):\n",
    "        modelo = min(dict(arrayDeDataFrame[i].iloc[-1, 4:]), key=dict(arrayDeDataFrame[i].iloc[-1, 4:]).get)\n",
    "        qt_previsao = arrayDeDataFrame[i][min(dict(arrayDeDataFrame[i].iloc[-1, 4:]), key=dict(arrayDeDataFrame[i].iloc[-1, 4:]).get)][len(arrayDeDataFrame[i])-2]\n",
    "        erro = arrayDeDataFrame[i][min(dict(arrayDeDataFrame[i].iloc[-1, 4:]), key=dict(arrayDeDataFrame[i].iloc[-1, 4:]).get)][len(arrayDeDataFrame[i])-1]\n",
    "        dt_previsao = arrayDeDataFrame[i].index[-1]\n",
    "        cod_mercadoria = arrayDeDataFrame[i].iloc[:,1].unique().max()\n",
    "        cod_empresa = arrayDeDataFrame[i].iloc[:,0].unique().max()\n",
    "        lista = [modelo, qt_previsao, dt_previsao, cod_mercadoria, cod_empresa, erro ]\n",
    "        resultados.append(lista)\n",
    "    \n",
    "    dfR = pd.DataFrame(resultados,columns=['modelo', 'qt_previsao', 'dt_previsao', 'cd_mercadoria','cd_empresa', 'RMSE'])    \n",
    "    return dfR\n",
    "\n",
    "def suavizacaoExponencialSimples():\n",
    "    y_hat_avg = pd.DataFrame(teste.copy())\n",
    "    model_fit = SimpleExpSmoothing(np.asarray(train)).fit(smoothing_level=0.6,optimized=False)\n",
    "    y_hat_avg['SES'] = model_fit.forecast(len(teste))\n",
    "    plt.figure(figsize=(16,4))\n",
    "    plt.plot(train, label='Train', linewidth=3, markersize=6, marker='o', )\n",
    "    plt.plot(teste, label='Test', linewidth=3, markersize=6, marker='o' )\n",
    "    plt.plot(y_hat_avg['SES'],linewidth=3, label='SES')\n",
    "    plt.legend(loc='best')\n",
    "    rmse_ses = sqrt(mean_squared_error(teste, y_hat_avg.SES));    \n",
    "    \n",
    "dataAtual = buscarDataAtual()\n",
    "dataFrame = dataFrame[dataFrame.index != dataAtual]"
   ]
  },
  {
   "cell_type": "code",
   "execution_count": null,
   "metadata": {},
   "outputs": [],
   "source": [
    "inicio = timeit.default_timer()\n",
    "\n",
    "arrayMercadoria = dataFrame['cd_mercadoria'].unique()\n",
    "arrayEmpresa = dataFrame['cd_empresa'].unique()\n",
    "arrayDeDataFrame = []\n",
    "\n",
    "for emp in arrayEmpresa:\n",
    "    i = 0\n",
    "    for i, mer in enumerate(arrayMercadoria):\n",
    "        df = dataFrame[(dataFrame['cd_mercadoria'] == mer) &\n",
    "                       (dataFrame['cd_empresa'] == emp)].sort_values(by=['dt_venda'], ascending=True)\n",
    "        if len(df) > 0:\n",
    "            df = adicionarIndicesFaltantes(df)\n",
    "            arrayDeDataFrame.append(df)\n",
    "            \n",
    "            dfR = calcularMediaMovel(arrayDeDataFrame)\n",
    "            \n",
    "        arrayDeDataFrame[len(arrayDeDataFrame) - 1].fillna(0, inplace=True)\n",
    "\n",
    "        \n",
    "\n",
    "fim = timeit.default_timer()\n",
    "\n",
    "print(f'Tempo de execução: {(fim - inicio) / 60} minutos')"
   ]
  },
  {
   "cell_type": "code",
   "execution_count": null,
   "metadata": {},
   "outputs": [],
   "source": [
    "arrayDeDataFrame[127]"
   ]
  }
 ],
 "metadata": {
  "kernelspec": {
   "display_name": "Python 3",
   "language": "python",
   "name": "python3"
  },
  "language_info": {
   "codemirror_mode": {
    "name": "ipython",
    "version": 3
   },
   "file_extension": ".py",
   "mimetype": "text/x-python",
   "name": "python",
   "nbconvert_exporter": "python",
   "pygments_lexer": "ipython3",
   "version": "3.6.3"
  }
 },
 "nbformat": 4,
 "nbformat_minor": 2
}
