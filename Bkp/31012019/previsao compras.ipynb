{
 "cells": [
  {
   "cell_type": "markdown",
   "metadata": {},
   "source": [
    "<h1>Projeto De Previsao de Compras</h1>\n",
    "<h2>Versao.: 1.2</h2>\n",
    "<h2>Data.:   14/12/2018  17:20</h2>"
   ]
  },
  {
   "cell_type": "code",
   "execution_count": null,
   "metadata": {},
   "outputs": [],
   "source": [
    "import pandas as pd\n",
    "import numpy as np\n",
    "from datetime import datetime\n",
    "from datetime import timedelta\n",
    "from math import sqrt\n",
    "from sklearn.metrics import mean_squared_error \n",
    "\n",
    "dateparse = lambda dates: pd.datetime.strptime(dates, '%d.%m.%Y %H:%M:%S')\n",
    "dataFrame = pd.read_csv(r\"C:\\Users\\Paulo Cesar\\Estudos\\Data Science\\Ajuste Media de Compra\\datasets\\VENDA-GAM-343.CSV\", \n",
    "                        sep=\";\", parse_dates = ['dt_venda'], index_col = 'dt_venda', date_parser = dateparse)"
   ]
  },
  {
   "cell_type": "code",
   "execution_count": null,
   "metadata": {},
   "outputs": [],
   "source": [
    "dataFrame.head()"
   ]
  },
  {
   "cell_type": "raw",
   "metadata": {},
   "source": [
    "dataFrame[(dataFrame['cd_mercadoria'] == 117661) & (dataFrame['cd_empresa'] == 1)].sort_values(by=['dt_venda'],ascending=False)"
   ]
  },
  {
   "cell_type": "code",
   "execution_count": null,
   "metadata": {
    "collapsed": true
   },
   "outputs": [],
   "source": [
    "def buscarDataAtual():\n",
    "    data_atual = datetime.today()\n",
    "    data_em_texto = '{}-{}-{}'.format(data_atual.year, data_atual.month, '01')\n",
    "    return data_em_texto"
   ]
  },
  {
   "cell_type": "code",
   "execution_count": null,
   "metadata": {
    "collapsed": true
   },
   "outputs": [],
   "source": [
    "def calcularErro(dataAtual):\n",
    "    for i, df in enumerate(arrayDeDataFrame):\n",
    "        if (len(df) > 7):\n",
    "            aVendida = df.iloc[-6:, 3].values\n",
    "            j = 1\n",
    "            while j <= 12:\n",
    "                aMM = df.iloc[-8:-2, j+2].values\n",
    "                erroMM = sqrt(mean_squared_error(aVendida, aMM))\n",
    "                df.loc[dataAtual, 'MM'+str(j)] = erroMM\n",
    "                j+=1"
   ]
  },
  {
   "cell_type": "code",
   "execution_count": null,
   "metadata": {
    "collapsed": true
   },
   "outputs": [],
   "source": [
    "def adicionarIndicesFaltantes(df):\n",
    "    idx = pd.date_range(min(df.index), dataAtual, freq='MS')\n",
    "    df.index = pd.DatetimeIndex(df.index)\n",
    "    df = df.reindex(idx, fill_value=0)\n",
    "    return df"
   ]
  },
  {
   "cell_type": "code",
   "execution_count": null,
   "metadata": {
    "collapsed": true
   },
   "outputs": [],
   "source": [
    "def calcularMediaMovel(arrayDeDataFrame):\n",
    "    j = 1\n",
    "    while j <= 12:\n",
    "        arrayDeDataFrame[len(arrayDeDataFrame)-1]['MM'+str(j)] = arrayDeDataFrame[len(arrayDeDataFrame)-1]['qt_vendida'].rolling(j).mean()\n",
    "        j += 1\n",
    "    return arrayDeDataFrame"
   ]
  },
  {
   "cell_type": "code",
   "execution_count": null,
   "metadata": {
    "collapsed": true
   },
   "outputs": [],
   "source": [
    "#dataFrame.drop(index=dataFrame.loc[dataFrame['dt_venda'] == '2018-01-11'].index)\n",
    "#df = df.drop(df[df.score < 50].index)\n",
    "dataAtual = buscarDataAtual()\n",
    "dataFrame = dataFrame[dataFrame.index != dataAtual]"
   ]
  },
  {
   "cell_type": "code",
   "execution_count": null,
   "metadata": {
    "collapsed": true
   },
   "outputs": [],
   "source": [
    "arrayMercadoria = dataFrame['cd_mercadoria'].unique()\n",
    "arrayEmpresa = [1, 4, 5]\n",
    "#arrayMercadoria = [117661]\n",
    "#arrayEmpresa = [1]\n",
    "\n",
    "arrayDeDataFrame = []\n",
    "\n",
    "for emp in arrayEmpresa:\n",
    "    i = 0\n",
    "    for i, mer in enumerate(arrayMercadoria):\n",
    "        df = dataFrame[(dataFrame['cd_mercadoria'] == mer) & \n",
    "                      (dataFrame['cd_empresa'] == emp)].sort_values(by=['dt_venda'],ascending=True)\n",
    "        \n",
    "        if (len(df) > 0):\n",
    "            df = adicionarIndicesFaltantes(df) \n",
    "            arrayDeDataFrame.append(df)                \n",
    "            arrayDeDataFrame = calcularMediaMovel(arrayDeDataFrame)\n",
    "            \n",
    "            \n",
    "        arrayDeDataFrame[len(arrayDeDataFrame)-1].fillna(0, inplace=True)\n",
    "         \n",
    "calcularErro(dataAtual)"
   ]
  },
  {
   "cell_type": "code",
   "execution_count": null,
   "metadata": {},
   "outputs": [],
   "source": [
    "arrayDeDataFrame[1]"
   ]
  },
  {
   "cell_type": "code",
   "execution_count": null,
   "metadata": {
    "scrolled": true
   },
   "outputs": [],
   "source": [
    "min(dict(arrayDeDataFrame[1].iloc[-1, 4:]), key=dict(arrayDeDataFrame[1].iloc[-1, 4:]).get)"
   ]
  },
  {
   "cell_type": "code",
   "execution_count": null,
   "metadata": {},
   "outputs": [],
   "source": [
    "arrayDeDataFrame[1][min(dict(arrayDeDataFrame[1].iloc[-1, 4:]), \n",
    "                        key=dict(arrayDeDataFrame[1].iloc[-1, 4:]).get)][len(arrayDeDataFrame[1])-2]\n"
   ]
  },
  {
   "cell_type": "code",
   "execution_count": null,
   "metadata": {},
   "outputs": [],
   "source": [
    "resultados = []\n",
    "\n",
    "for i in range(0, len(arrayDeDataFrame)):\n",
    "    modelo = min(dict(arrayDeDataFrame[i].iloc[-1, 4:]), key=dict(arrayDeDataFrame[i].iloc[-1, 4:]).get)\n",
    "    qt_previsao = arrayDeDataFrame[i][min(dict(arrayDeDataFrame[i].iloc[-1, 4:]), key=dict(arrayDeDataFrame[i].iloc[-1, 4:]).get)][len(arrayDeDataFrame[i])-2]\n",
    "    erro = arrayDeDataFrame[i][min(dict(arrayDeDataFrame[i].iloc[-1, 4:]), key=dict(arrayDeDataFrame[i].iloc[-1, 4:]).get)][len(arrayDeDataFrame[i])-1]\n",
    "    dt_previsao = arrayDeDataFrame[i].index[-1]\n",
    "    cod_mercadoria = arrayDeDataFrame[i].iloc[:,1].unique().max()\n",
    "    cod_empresa = arrayDeDataFrame[i].iloc[:,0].unique().max()\n",
    "    lista = [modelo, qt_previsao, dt_previsao, cod_mercadoria, cod_empresa, erro ]\n",
    "    resultados.append(lista)\n",
    "\n",
    "    \n",
    "dfR = pd.DataFrame(resultados,columns=['modelo', 'qt_previsao', 'dt_previsao', 'cd_mercadoria','cd_empresa', 'RMSE'])\n",
    "dfR"
   ]
  }
 ],
 "metadata": {
  "kernelspec": {
   "display_name": "Python 3",
   "language": "python",
   "name": "python3"
  },
  "language_info": {
   "codemirror_mode": {
    "name": "ipython",
    "version": 3
   },
   "file_extension": ".py",
   "mimetype": "text/x-python",
   "name": "python",
   "nbconvert_exporter": "python",
   "pygments_lexer": "ipython3",
   "version": "3.6.3"
  }
 },
 "nbformat": 4,
 "nbformat_minor": 2
}
