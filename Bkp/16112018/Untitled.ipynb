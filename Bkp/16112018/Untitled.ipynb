{
 "cells": [
  {
   "cell_type": "code",
   "execution_count": 23,
   "metadata": {
    "collapsed": true
   },
   "outputs": [],
   "source": [
    "import pandas as pd\n",
    "import numpy as np\n",
    "from datetime import datetime\n",
    "dataFrame = pd.read_csv(r\"C:\\Users\\Paulo Cesar\\Estudos\\Data Science\\Ajuste Media de Compra\\VENDA-GAM-343.CSV\", sep=\";\")\n",
    "dataFrame['dt_venda'] = pd.to_datetime(dataFrame['dt_venda'])"
   ]
  },
  {
   "cell_type": "code",
   "execution_count": 25,
   "metadata": {},
   "outputs": [
    {
     "data": {
      "text/html": [
       "<div>\n",
       "<style scoped>\n",
       "    .dataframe tbody tr th:only-of-type {\n",
       "        vertical-align: middle;\n",
       "    }\n",
       "\n",
       "    .dataframe tbody tr th {\n",
       "        vertical-align: top;\n",
       "    }\n",
       "\n",
       "    .dataframe thead th {\n",
       "        text-align: right;\n",
       "    }\n",
       "</style>\n",
       "<table border=\"1\" class=\"dataframe\">\n",
       "  <thead>\n",
       "    <tr style=\"text-align: right;\">\n",
       "      <th></th>\n",
       "      <th>dt_venda</th>\n",
       "      <th>cd_empresa</th>\n",
       "      <th>cd_mercadoria</th>\n",
       "      <th>qt_vendida</th>\n",
       "    </tr>\n",
       "  </thead>\n",
       "  <tbody>\n",
       "    <tr>\n",
       "      <th>33045</th>\n",
       "      <td>2018-01-09</td>\n",
       "      <td>5</td>\n",
       "      <td>533273</td>\n",
       "      <td>0</td>\n",
       "    </tr>\n",
       "    <tr>\n",
       "      <th>33046</th>\n",
       "      <td>2018-01-10</td>\n",
       "      <td>5</td>\n",
       "      <td>533273</td>\n",
       "      <td>0</td>\n",
       "    </tr>\n",
       "    <tr>\n",
       "      <th>33047</th>\n",
       "      <td>2018-01-11</td>\n",
       "      <td>5</td>\n",
       "      <td>533273</td>\n",
       "      <td>0</td>\n",
       "    </tr>\n",
       "    <tr>\n",
       "      <th>33048</th>\n",
       "      <td>2018-01-10</td>\n",
       "      <td>5</td>\n",
       "      <td>535835</td>\n",
       "      <td>0</td>\n",
       "    </tr>\n",
       "    <tr>\n",
       "      <th>33049</th>\n",
       "      <td>2018-01-11</td>\n",
       "      <td>5</td>\n",
       "      <td>535835</td>\n",
       "      <td>0</td>\n",
       "    </tr>\n",
       "  </tbody>\n",
       "</table>\n",
       "</div>"
      ],
      "text/plain": [
       "        dt_venda  cd_empresa  cd_mercadoria  qt_vendida\n",
       "33045 2018-01-09           5         533273           0\n",
       "33046 2018-01-10           5         533273           0\n",
       "33047 2018-01-11           5         533273           0\n",
       "33048 2018-01-10           5         535835           0\n",
       "33049 2018-01-11           5         535835           0"
      ]
     },
     "execution_count": 25,
     "metadata": {},
     "output_type": "execute_result"
    }
   ],
   "source": [
    "dataFrame.tail()"
   ]
  },
  {
   "cell_type": "code",
   "execution_count": 26,
   "metadata": {},
   "outputs": [
    {
     "name": "stderr",
     "output_type": "stream",
     "text": [
      "IOPub data rate exceeded.\n",
      "The notebook server will temporarily stop sending output\n",
      "to the client in order to avoid crashing it.\n",
      "To change this limit, set the config variable\n",
      "`--NotebookApp.iopub_data_rate_limit`.\n"
     ]
    }
   ],
   "source": [
    "arrayMercadoria = dataFrame['cd_mercadoria'].unique()\n",
    "arrayEmpresa = [1, 4, 5]\n",
    "#arrayMercadoria = [117661]\n",
    "#arrayEmpresa = [1]\n",
    "\n",
    "array = []\n",
    "\n",
    "for emp in arrayEmpresa:\n",
    "    i = 0\n",
    "    for i, mer in enumerate(arrayMercadoria):\n",
    "        df = dataFrame[(dataFrame['cd_mercadoria'] == mer) & \n",
    "                      (dataFrame['cd_empresa'] == emp)].sort_values(by=['dt_venda'],ascending=False)\n",
    "        array.append(df)\n",
    "        j = 1\n",
    "        while j <= 12:\n",
    "            array[len(array)-1]['MM'+str(j)] = array[len(array)-1]['qt_vendida'].rolling(j).mean()\n",
    "            j += 1\n",
    "array"
   ]
  }
 ],
 "metadata": {
  "kernelspec": {
   "display_name": "Python 3",
   "language": "python",
   "name": "python3"
  },
  "language_info": {
   "codemirror_mode": {
    "name": "ipython",
    "version": 3
   },
   "file_extension": ".py",
   "mimetype": "text/x-python",
   "name": "python",
   "nbconvert_exporter": "python",
   "pygments_lexer": "ipython3",
   "version": "3.6.3"
  }
 },
 "nbformat": 4,
 "nbformat_minor": 2
}
