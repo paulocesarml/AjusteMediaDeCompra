{
 "cells": [
  {
   "cell_type": "code",
   "execution_count": 1,
   "metadata": {},
   "outputs": [],
   "source": [
    "import pandas as pd\n",
    "import timeit\n",
    "import numpy as np\n",
    "from datetime import datetime\n",
    "from datetime import timedelta\n",
    "from math import sqrt\n",
    "from sklearn.metrics import mean_squared_error\n",
    "import warnings\n",
    "import statsmodels.api as sm\n",
    "from statsmodels.tsa.api import ExponentialSmoothing, SimpleExpSmoothing, Holt\n",
    "from statsmodels.tsa.arima_model import ARIMA\n",
    "from math import sqrt\n",
    "\n",
    "dateparse = lambda dates: pd.datetime.strptime(dates, '%d.%m.%Y %H:%M:%S')\n",
    "dataFrame = pd.read_csv(r\"C:\\Macros\\VENDA-GAM-343.CSV\", sep=\";\", parse_dates=['dt_venda'], index_col='dt_venda', date_parser=dateparse)"
   ]
  },
  {
   "cell_type": "code",
   "execution_count": 9,
   "metadata": {},
   "outputs": [],
   "source": [
    "def buscarDataAtual():\n",
    "    data_atual = datetime.today()\n",
    "    data_em_texto = '{}-{}-{}'.format(data_atual.year, data_atual.month, '01')\n",
    "    return data_em_texto\n",
    "\n",
    "\n",
    "def train_test_split(dfr):\n",
    "    train_size = int(len(dfr) * 0.70)\n",
    "    train = dfr[0: train_size]\n",
    "    test = dfr[train_size:]\n",
    "    return train, test\n",
    "\n",
    "def suav_exp_simp():\n",
    "    y_hat_avg = pd.DataFrame(test.copy())\n",
    "    model_fit = SimpleExpSmoothing(np.asarray(train)).fit(smoothing_level=0.6, optimized=False)\n",
    "    y_hat_avg['SES'] = model_fit.forecast(len(test))\n",
    "    rmse_ses = sqrt(mean_squared_error(test, y_hat_avg.SES))\n",
    "    \n",
    "\n",
    "dataAtual = buscarDataAtual()\n",
    "dataFrame = dataFrame[dataFrame.index != dataAtual]"
   ]
  },
  {
   "cell_type": "code",
   "execution_count": 7,
   "metadata": {},
   "outputs": [
    {
     "name": "stdout",
     "output_type": "stream",
     "text": [
      "Tempo de execução: 0.11370912498333326 minutos\n"
     ]
    }
   ],
   "source": [
    "inicio = timeit.default_timer()\n",
    "\n",
    "arrayMercadoria = dataFrame['cd_mercadoria'].unique()\n",
    "arrayEmpresa = dataFrame['cd_empresa'].unique()\n",
    "arrayDeDataFrame = []\n",
    "\n",
    "for emp in arrayEmpresa:\n",
    "    i = 0\n",
    "    for i, mer in enumerate(arrayMercadoria):\n",
    "        df = dataFrame[(dataFrame['cd_mercadoria'] == mer) &\n",
    "                       (dataFrame['cd_empresa'] == emp)].sort_values(by=['dt_venda'], ascending=True)\n",
    "        if len(df) > 0:\n",
    "            idx = pd.date_range(min(df.index), dataAtual, freq='MS')\n",
    "            df.index = pd.DatetimeIndex(df.index)\n",
    "            df = df.reindex(idx, fill_value=0)\n",
    "            arrayDeDataFrame.append(df)\n",
    "        arrayDeDataFrame[len(arrayDeDataFrame) - 1].fillna(0, inplace=True)\n",
    "\n",
    "fim = timeit.default_timer()\n",
    "\n",
    "print(f'Tempo de execução: {(fim - inicio) / 60} minutos')"
   ]
  },
  {
   "cell_type": "code",
   "execution_count": 12,
   "metadata": {},
   "outputs": [
    {
     "ename": "TypeError",
     "evalue": "list indices must be integers or slices, not tuple",
     "output_type": "error",
     "traceback": [
      "\u001b[1;31m---------------------------------------------------------------------------\u001b[0m",
      "\u001b[1;31mTypeError\u001b[0m                                 Traceback (most recent call last)",
      "\u001b[1;32m<ipython-input-12-4785ed848c31>\u001b[0m in \u001b[0;36m<module>\u001b[1;34m()\u001b[0m\n\u001b[0;32m      1\u001b[0m \u001b[1;32mfor\u001b[0m \u001b[0mi\u001b[0m \u001b[1;32min\u001b[0m \u001b[0menumerate\u001b[0m\u001b[1;33m(\u001b[0m\u001b[0marrayDeDataFrame\u001b[0m\u001b[1;33m)\u001b[0m\u001b[1;33m:\u001b[0m\u001b[1;33m\u001b[0m\u001b[1;33m\u001b[0m\u001b[0m\n\u001b[1;32m----> 2\u001b[1;33m     \u001b[0mtrain_test_split\u001b[0m\u001b[1;33m(\u001b[0m\u001b[0marrayDeDataFrame\u001b[0m\u001b[1;33m[\u001b[0m\u001b[0mi\u001b[0m\u001b[1;33m]\u001b[0m\u001b[1;33m[\u001b[0m\u001b[1;34m'qt_vendida'\u001b[0m\u001b[1;33m]\u001b[0m\u001b[1;33m)\u001b[0m\u001b[1;33m\u001b[0m\u001b[1;33m\u001b[0m\u001b[0m\n\u001b[0m\u001b[0;32m      3\u001b[0m     \u001b[0msuav_exp_simp\u001b[0m\u001b[1;33m(\u001b[0m\u001b[1;33m)\u001b[0m\u001b[1;33m\u001b[0m\u001b[1;33m\u001b[0m\u001b[0m\n\u001b[0;32m      4\u001b[0m \u001b[1;33m\u001b[0m\u001b[0m\n\u001b[0;32m      5\u001b[0m \u001b[1;33m\u001b[0m\u001b[0m\n",
      "\u001b[1;31mTypeError\u001b[0m: list indices must be integers or slices, not tuple"
     ]
    }
   ],
   "source": [
    "for i in enumerate(arrayDeDataFrame):\n",
    "    train_test_split(arrayDeDataFrame[i]['qt_vendida'])\n",
    "    suav_exp_simp()\n",
    "    \n",
    "    "
   ]
  }
 ],
 "metadata": {
  "kernelspec": {
   "display_name": "Python 3",
   "language": "python",
   "name": "python3"
  },
  "language_info": {
   "codemirror_mode": {
    "name": "ipython",
    "version": 3
   },
   "file_extension": ".py",
   "mimetype": "text/x-python",
   "name": "python",
   "nbconvert_exporter": "python",
   "pygments_lexer": "ipython3",
   "version": "3.7.1"
  }
 },
 "nbformat": 4,
 "nbformat_minor": 2
}
